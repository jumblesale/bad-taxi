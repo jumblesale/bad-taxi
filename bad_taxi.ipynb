{
  "nbformat": 4,
  "nbformat_minor": 0,
  "metadata": {
    "colab": {
      "provenance": []
    },
    "kernelspec": {
      "name": "python3",
      "display_name": "Python 3"
    },
    "language_info": {
      "name": "python"
    }
  },
  "cells": [
    {
      "cell_type": "markdown",
      "source": [
        "# bad-taxi 🚕\n",
        "\n",
        "Hello, and welcome to the bad taxi kata! Please have the current navigator read aloud any text, starting with this text right here."
      ],
      "metadata": {
        "id": "q1yIroSQjKbf"
      }
    },
    {
      "cell_type": "markdown",
      "source": [
        "## Setup\n",
        "\n",
        "To get started, please run this snippet:"
      ],
      "metadata": {
        "id": "2vwvIDmTmUsC"
      }
    },
    {
      "cell_type": "code",
      "source": [
        "from google.colab import output\n",
        "!git clone https://github.com/jumblesale/bad-taxi.git\n",
        "\n",
        "try:\n",
        "  import hamcrest\n",
        "except:\n",
        "  %pip install pyhamcrest\n",
        "\n",
        "import sys\n",
        "\n",
        "if (git_path := 'bad-taxi/bad_taxi') not in sys.path:\n",
        "  sys.path.append(git_path)\n",
        "from trip_planner import BadTaxi"
      ],
      "metadata": {
        "id": "hh9a3khVjhnb"
      },
      "execution_count": 8,
      "outputs": []
    },
    {
      "cell_type": "markdown",
      "source": [
        "## Introduction\n",
        "\n",
        "This exercise is split into three parts.\n",
        "Each part has a solution where you will\n",
        "be prompted for input and it will get\n",
        "checked against a reference\n",
        "implementation.\n",
        "\n",
        "Complete each section before moving on\n",
        "to the next. And remember: the purpose\n",
        "is not to complete the exercise, but\n",
        "to practice programming. Take things\n",
        "slowly and make sure you are\n",
        "clearly communicating your intention\n",
        "and understanding.\n",
        "\n",
        "And most importantly, have fun! 💫"
      ],
      "metadata": {
        "id": "l_3npblbdQHL"
      }
    },
    {
      "cell_type": "markdown",
      "source": [
        "## Part 1\n",
        "\n",
        "We've been asked to develop software for\n",
        "the world's first fully automated taxi.\n",
        "\n",
        "Unfortunately, we haven't been given very\n",
        "much time to develop it, and we don't want\n",
        "to put taxi drivers out of work, and we don't\n",
        "want to spend very much money. So we are\n",
        "going to build a very *bad* taxi service.\n",
        "\n",
        "The taxi assumes it is driving around a city\n",
        "made of uniform blocks. It works on a\n",
        "co-ordinate system, with East/West travelling\n",
        "across the X axis and North/South travelling\n",
        "up/down the Y axis. The origin at (0, 0) is\n",
        "some arbitrary point in the city.\n",
        "\n",
        "![taxi.png](data:image/png;base64,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)\n",
        "\n",
        "Passengers give their destination in the form\n",
        "of co-ordinates such as (1, -1) and the\n",
        "driver converts this into a series of\n",
        "movements along compass directions.\n",
        "\n",
        "So to get to the green point\n",
        "on the graph, the driver could enter the\n",
        "following instructions:\n",
        "\n",
        "```\n",
        "EEES\n",
        "```"
      ],
      "metadata": {
        "id": "U_NGd-oXJlJZ"
      }
    },
    {
      "cell_type": "markdown",
      "source": [
        "### Part 1 Solution\n",
        "\n",
        "What would be the series of directions to\n",
        "get us to the red location at (-1, -3)?"
      ],
      "metadata": {
        "id": "FR_R7w_MPGKr"
      }
    },
    {
      "cell_type": "code",
      "source": [
        "result = input(\"What directions take us to -1, -3? \")\n",
        "\n",
        "if (final_location := BadTaxi.taxi((0, 0), result)) == (-1, -3):\n",
        "  print(\"Yes! Proceed to part 2.\")\n",
        "else:\n",
        "  print(f'Unfortunately that takes us to ({final_location[0]}, {final_location[1]}) - please try again.')"
      ],
      "metadata": {
        "id": "18FibotqjH6a"
      },
      "execution_count": 10,
      "outputs": []
    },
    {
      "cell_type": "markdown",
      "source": [
        "## Part 2\n",
        "\n",
        "Write a function which takes a starting position and a string of directions,\n",
        "and returns the coordinates of the final location of the taxi after following\n",
        "the directions.\n",
        "\n",
        "For example, given the input:\n",
        "\n",
        "```\n",
        "starting_position: (0, 0)\n",
        "tokens:            EESENENW\n",
        "```\n",
        "\n",
        "The car would have travelled three blocks East and one block North in total. The method would therefore return:\n",
        "\n",
        "```\n",
        "(3, 1)\n",
        "```"
      ],
      "metadata": {
        "id": "QiZkGWSmmPVi"
      }
    },
    {
      "cell_type": "code",
      "source": [
        "%%file taxi.py\n",
        "\n",
        "from typing import *\n",
        "import pytest\n",
        "\n",
        "Coordinates = Tuple[int, int]\n",
        "\n",
        "def taxi(starting_position: Coordinates, tokens: str) -> Coordinates:\n",
        "  pass\n",
        "\n",
        "class TestTaxi:\n",
        "  def test_something(self):\n",
        "    assert True == True"
      ],
      "metadata": {
        "id": "G_w9viHxHgBQ"
      },
      "execution_count": null,
      "outputs": []
    },
    {
      "cell_type": "code",
      "source": [
        "!python -m pytest taxi.py"
      ],
      "metadata": {
        "id": "WL1USa1DJFkA"
      },
      "execution_count": 12,
      "outputs": []
    },
    {
      "cell_type": "markdown",
      "source": [
        "### Part 2 solution\n",
        "\n",
        "Given the input:\n",
        "```\n",
        "nswneeeeennwwssennessnssweeweeeenswnwweenwsneeessnnnssnwnwsesnswwesswseeewwnwswwessswwwnewwwwwseesnsnsewewwweweseesnenesswwsssenwwwneswesesnnnnnsswweesennsseseeeswseewesnensnewnnswnnnsnsewwnseessneneennsnenwnwsnnensswewwewnnnesessnsswenswnswwewwnsnwessnnesnsswsewnwewsesewweeeewewsewnesnsnwwwwssewewwenennsnnwnnwnwsseesssseewnnsnnwenwennwwnnweswwnnwesssssensewseeewnweenesesesnsenwnnneewnesneewnwewwwenwwwsnwneeesnweenwswwweewsnnwnenennnwneeewsswnnseewwwwsewnwessssnesssnwewwswswneswwesewsnewneseswnwnesesensssnwwwswnenneeensssewsewnneneweeesnssnswnswnenssweeneneewsnswnseenneeeeweeweesnseswneweneeneenwewwwnnsnnsssensseeensnnneswwnsnneneswwssnesneswwwnswsnswssnesesewewsnnwsnewnwennsweenwnwswweewnwwnnnnssennneewsnnwwwensnssssewwssswewswewwnssswwwnenewwsnwsnenennsewswwswwwnweeeensswesnwwnwwwnwenswewwnnwnenwnweeswesewnsswnsennnewsssssswswnnnwnewswwwwsswnwsssnessssnesnwnswsseseeswnwesnneesssnwnsswennwnsnssnewwswnnewnneeessnneewsnewsnwnnnsnweenenswnwnwnenwwnwnsnwnwsneseswswnnsesnwnnweswewwswenessewseswwensnnnswessswnessswsenssnewewnnwnnwnesewsesneneeweswsesweenesneneesnsnwwnsnsnwnwnwnsswwnwsesnnwsnwwwssenssswsewwessnwewswnsweesnnwsnnenneeennnswnsnsswwsnssnennweswwwwnewensnnneesewwnsswnewnenssesenwnwsweenewweneenseewwwnswennewwnneessnwnesnewweweennewsnswwssennseswwwnwwwwenewwwewnssenwensewweewsnsensnennswessneeswesnnsenwssnsnsswsensewwnsenwnwennnnesewswsessswwwennsnwseewwwewwswwwwswwesswssseswsensewesnennnweeewseenesnwwnewesenwswsesweesnenwwnsssssennwesnwnnwseswwwweennenwwnwsesnessnnwnewseenwwwsnswwenwewewnnwwwwwweenswsnenwnesweeeenwseswwesssnsnneswnwwwnessewnsnssnewsswnwnsewsnnesswwnensewwswnwweswnewnwnsensewsenewwsesneweeswnwswnswneeweesesesssnssnnseeweenneweewewwesssnnnnesnenweswwewnwewsweseeeesswssessewesswsnsnnnwennnsnensenwnnswsnesewnwssssseseesnneneeewnseewwwweswewwsswwwwseswwesesnwsnwenennswwsnneswsesseesnwesneweeennnnnswnseewsnewesennsenswewenwwewseeewswswnwwweweweneseneewnsneswweennwweswswsewennswwnswesssnsewwsneeesnnwnnwnwennwwwnewsewseeessnewsewwnnnnwewwsnnwnsnsnewneeseswewwwneweenwwnweeweswensnwwewwswnswswwwnweenenesnwnenwesnesnwsswsesessnnwnewsnwwssewsnensewwnseeneewsswssesnsnswswwwwssnswswsssswweneeensesewsnwnnwseennnnnssswwewewweeseneewwseweswwswwwwwsnensewnnsswnensewnnwnwewwnennewnsenseseeneneeeswnsenwwnwnnewwnesssnwwsswneeewwwnwnnswnewnenswnesesswseeswsenwssweseesenwwnwnesenweennwwwsnsweenesewwnwssewnwnnnnesnwnsssnneswswseenweweesewnnenswsnswnswwwwnwsswwewswwsnswwnwswwewnswwessseennwsenwwnsssenwsnwwnneeswswnnnnenesswsnsennseswwswsnnennsnennsneewseewwweneseweesnenwsweeswnsenewennnewssswwnnwwesewwnnsneewnwennewewwssnwwwweeeweesneeseesswwewssnsnweeessweeswsneseeeewewswewwsnwnewwnsweewewsnweewwseewwnnwwsnsenwseeseweneeseessseesssnewenwwsnsewnwessneneewennnwnsneeeseeneesensennenessnnnnwessenswewsnnwnnseneeeeeeenweewenweeeeswneesswwnnenwnnewweeewwsnwwwwwnwnnwwseenwewnwnwswsnswsnweewssssssenwneenssweeswsnnsseennsessnwneewwewnnnenwsnseessenswwewsnennnwssnnwssnnwswswwnwwsennenssnseneesweswseeeewsnnesewwseenssswnewewnwwseennnwwnswnnennwnsnnsssnnwnsees\n",
        "```\n",
        "\n",
        "What will be the final location of the vehicle?"
      ],
      "metadata": {
        "id": "0XyjfLAxLDLe"
      }
    },
    {
      "cell_type": "code",
      "source": [
        "tokens = 'nswneeeeennwwssennessnssweeweeeenswnwweenwsneeessnnnssnwnwsesnswwesswseeewwnwswwessswwwnewwwwwseesnsnsewewwweweseesnenesswwsssenwwwneswesesnnnnnsswweesennsseseeeswseewesnensnewnnswnnnsnsewwnseessneneennsnenwnwsnnensswewwewnnnesessnsswenswnswwewwnsnwessnnesnsswsewnwewsesewweeeewewsewnesnsnwwwwssewewwenennsnnwnnwnwsseesssseewnnsnnwenwennwwnnweswwnnwesssssensewseeewnweenesesesnsenwnnneewnesneewnwewwwenwwwsnwneeesnweenwswwweewsnnwnenennnwneeewsswnnseewwwwsewnwessssnesssnwewwswswneswwesewsnewneseswnwnesesensssnwwwswnenneeensssewsewnneneweeesnssnswnswnenssweeneneewsnswnseenneeeeweeweesnseswneweneeneenwewwwnnsnnsssensseeensnnneswwnsnneneswwssnesneswwwnswsnswssnesesewewsnnwsnewnwennsweenwnwswweewnwwnnnnssennneewsnnwwwensnssssewwssswewswewwnssswwwnenewwsnwsnenennsewswwswwwnweeeensswesnwwnwwwnwenswewwnnwnenwnweeswesewnsswnsennnewsssssswswnnnwnewswwwwsswnwsssnessssnesnwnswsseseeswnwesnneesssnwnsswennwnsnssnewwswnnewnneeessnneewsnewsnwnnnsnweenenswnwnwnenwwnwnsnwnwsneseswswnnsesnwnnweswewwswenessewseswwensnnnswessswnessswsenssnewewnnwnnwnesewsesneneeweswsesweenesneneesnsnwwnsnsnwnwnwnsswwnwsesnnwsnwwwssenssswsewwessnwewswnsweesnnwsnnenneeennnswnsnsswwsnssnennweswwwwnewensnnneesewwnsswnewnenssesenwnwsweenewweneenseewwwnswennewwnneessnwnesnewweweennewsnswwssennseswwwnwwwwenewwwewnssenwensewweewsnsensnennswessneeswesnnsenwssnsnsswsensewwnsenwnwennnnesewswsessswwwennsnwseewwwewwswwwwswwesswssseswsensewesnennnweeewseenesnwwnewesenwswsesweesnenwwnsssssennwesnwnnwseswwwweennenwwnwsesnessnnwnewseenwwwsnswwenwewewnnwwwwwweenswsnenwnesweeeenwseswwesssnsnneswnwwwnessewnsnssnewsswnwnsewsnnesswwnensewwswnwweswnewnwnsensewsenewwsesneweeswnwswnswneeweesesesssnssnnseeweenneweewewwesssnnnnesnenweswwewnwewsweseeeesswssessewesswsnsnnnwennnsnensenwnnswsnesewnwssssseseesnneneeewnseewwwweswewwsswwwwseswwesesnwsnwenennswwsnneswsesseesnwesneweeennnnnswnseewsnewesennsenswewenwwewseeewswswnwwweweweneseneewnsneswweennwweswswsewennswwnswesssnsewwsneeesnnwnnwnwennwwwnewsewseeessnewsewwnnnnwewwsnnwnsnsnewneeseswewwwneweenwwnweeweswensnwwewwswnswswwwnweenenesnwnenwesnesnwsswsesessnnwnewsnwwssewsnensewwnseeneewsswssesnsnswswwwwssnswswsssswweneeensesewsnwnnwseennnnnssswwewewweeseneewwseweswwswwwwwsnensewnnsswnensewnnwnwewwnennewnsenseseeneneeeswnsenwwnwnnewwnesssnwwsswneeewwwnwnnswnewnenswnesesswseeswsenwssweseesenwwnwnesenweennwwwsnsweenesewwnwssewnwnnnnesnwnsssnneswswseenweweesewnnenswsnswnswwwwnwsswwewswwsnswwnwswwewnswwessseennwsenwwnsssenwsnwwnneeswswnnnnenesswsnsennseswwswsnnennsnennsneewseewwweneseweesnenwsweeswnsenewennnewssswwnnwwesewwnnsneewnwennewewwssnwwwweeeweesneeseesswwewssnsnweeessweeswsneseeeewewswewwsnwnewwnsweewewsnweewwseewwnnwwsnsenwseeseweneeseessseesssnewenwwsnsewnwessneneewennnwnsneeeseeneesensennenessnnnnwessenswewsnnwnnseneeeeeeenweewenweeeeswneesswwnnenwnnewweeewwsnwwwwwnwnnwwseenwewnwnwswsnswsnweewssssssenwneenssweeswsnnsseennsessnwneewwewnnnenwsnseessenswwewsnennnwssnnwssnnwswswwnwwsennenssnseneesweswseeeewsnnesewwseenssswnewewnwwseennnwwnswnnennwnsnnsssnnwnsees'\n",
        "\n",
        "x = input(\"What is the x coordinate?  \")\n",
        "y = input(\"What is the y coordinate?  \")\n",
        "\n",
        "if (BadTaxi.taxi((0, 0), tokens)) == (int(x), int(y)):\n",
        "  print(\"Yes! Proceed to part 3.\")\n",
        "else:\n",
        "  print(f'Unfortunately that is not correct - please check your solution and try again.')"
      ],
      "metadata": {
        "id": "nwnfvaH8LQR3"
      },
      "execution_count": null,
      "outputs": []
    },
    {
      "cell_type": "markdown",
      "source": [
        "## Part 3\n",
        "\n",
        "We've launched the new taxi software and it's been a huge success!\n",
        "\n",
        "Passengers love converting their destination to integers relevant to an\n",
        "arbitrary fixed point, and taxi drivers love converting those numbers\n",
        "into a series of directions.\n",
        "\n",
        "We've had one consistent request for an improvement though: drivers\n",
        "are tired of having to input each direction multiple times. They would\n",
        "like to be able to give `3nw2s` instead of `nnnwss`.\n",
        "\n",
        "We've also been asked if the taxi could pick people up from a location\n",
        "other than `(0, 0)`.\n",
        "\n",
        "Expand the `taxi` method to accept directions preceeded by a number\n",
        "representing how many blocks to travel in that direction.\n",
        "\n",
        "Make sure it is able to start from a location other than `(0, 0)`"
      ],
      "metadata": {
        "id": "uyCbqjlvPajT"
      }
    },
    {
      "cell_type": "markdown",
      "source": [
        "### Part 3 Solution\n",
        "\n",
        "Given the input:\n",
        "\n",
        "```\n",
        "862e17wnswse391e411e14enw4nn7snew11n870s255sw14e3e779n808s984s738ew9w7sss510s742s15w2nwnwwss970sn12ws8e926sewne73e10e622snw352ee17ss9e58w3e987sns319e664nn36en787w7e682e619s754ns17sse887e245e12n10s389nnwsw741ssse512s250w2n652se5e755s752ww14ee776s11ewns13w12s8se12we555en321w15n13ne231n8wnee4e5e260n180n12e599e14e12s738e109sns787we349w13e724nwns7wew15w559ss955n5s6e4ee409se85e14we205n6s15nnn517w601n11neeee492e182ne168sees5sn17www523ew242w16ne902w497e4s17ee705s671ne9e579nenw3swnn3ww6s11nes6e17s15w872s12n904e568w982nwws40nww792s2e17s15snn4we431ee966s156wn671sw816e12swn64w412n157w631nw6wwe959n4n522n667s747w16e12eesse12n3w9n330nw28sws16see512ee2e12ewws2nswse12we10w3se567e951e404eww8se533wnw953n11n15sen13s3e11w13we9ensne16ns668s10w2n55nenn875s425n3w3sew13s693w487ns14nwns15n13s902neen3se668n166e563e6s259nsn5w148e374wewse510nnne371ww2ws14s26n505se4w821wee9s446ww203sw789s934n6snnw6wnnw500s2wn57nee13ww464n140wn9n16w8ne519n11e75s854ensw43nwess15s252e883ew5nee14w404w379nn840n367n197ewwwe239s698nnn14e3snn793e733snsne7ee408nsw15nnnwn12ew869n7se901wwesnw934ss959ns16n4wse15w3ww2es8esewwwn17nw668wne376s3s877nw8w6snn709sew684e15nn2n151en12ewn473w481nn7e15n583sss983nwe10s519ws960nw177w13ensw13nssnen12n357wwn2s9eene979newwsw868n405w16we13w288nn767n14w9n316ws13esew550e440w886s924s927w287s58nn7snw5e5s12se82w11esw6ns11eennws17e4sse7enwen5ss2s8ee770s4e306n991sw83sn14w456s882e3w341snw16newe6sn996w14e648s6en35wnn119n2n347n3s8we13ws12s490w2swnswe905n15en22w779w7s13sss16s9we813ewn7s954ssse4w675e116wwsn410enw7wnw968s583n7w667sw369s5n734nesneee731s459wwwe46w10w17nsss454s442n2w492wnn302w4e141n12s10nwn9neenee3sw523s505e16www536s8w2nn587n523e108n10nsn5n944w11w9s11w12nnss6s11ww6wesnw6nw2e8ns17w2n488ewns7e275n918s66wwsw451n609ww236e9we14e5s7en370s267s9n295nwsnssses97w6n10snwe16ww14sn533e452e4n960w969w883nn17n617n12swnswwssesn713n3n13n7s555w5snss636wwn363ewnsn12ne14n11see436wnww308w9ne253e355nsew13snw568sse952s380e34w4e407es8e2e662n650ee17we12e91ee786sweenw7n17wn14essee386sewe222nn16nw2e3wnses8nne344eess17e6ws411n596s500s311e17es8ne492sn424s9n9w456n5n12sw781ww11wsws911ee468e5ws11nnw4n921n12s12ww74sns2ewne696we367wnw10sw14sn16se16e868e7n353s257e16e\n",
        "```\n",
        "\n",
        "And starting from `(24183, -6570)`, what will be the final position of the vehicle?"
      ],
      "metadata": {
        "id": "IzzVUcWVcqua"
      }
    },
    {
      "cell_type": "code",
      "source": [
        "tokens = '862e17wnswse391e411e14enw4nn7snew11n870s255sw14e3e779n808s984s738ew9w7sss510s742s15w2nwnwwss970sn12ws8e926sewne73e10e622snw352ee17ss9e58w3e987sns319e664nn36en787w7e682e619s754ns17sse887e245e12n10s389nnwsw741ssse512s250w2n652se5e755s752ww14ee776s11ewns13w12s8se12we555en321w15n13ne231n8wnee4e5e260n180n12e599e14e12s738e109sns787we349w13e724nwns7wew15w559ss955n5s6e4ee409se85e14we205n6s15nnn517w601n11neeee492e182ne168sees5sn17www523ew242w16ne902w497e4s17ee705s671ne9e579nenw3swnn3ww6s11nes6e17s15w872s12n904e568w982nwws40nww792s2e17s15snn4we431ee966s156wn671sw816e12swn64w412n157w631nw6wwe959n4n522n667s747w16e12eesse12n3w9n330nw28sws16see512ee2e12ewws2nswse12we10w3se567e951e404eww8se533wnw953n11n15sen13s3e11w13we9ensne16ns668s10w2n55nenn875s425n3w3sew13s693w487ns14nwns15n13s902neen3se668n166e563e6s259nsn5w148e374wewse510nnne371ww2ws14s26n505se4w821wee9s446ww203sw789s934n6snnw6wnnw500s2wn57nee13ww464n140wn9n16w8ne519n11e75s854ensw43nwess15s252e883ew5nee14w404w379nn840n367n197ewwwe239s698nnn14e3snn793e733snsne7ee408nsw15nnnwn12ew869n7se901wwesnw934ss959ns16n4wse15w3ww2es8esewwwn17nw668wne376s3s877nw8w6snn709sew684e15nn2n151en12ewn473w481nn7e15n583sss983nwe10s519ws960nw177w13ensw13nssnen12n357wwn2s9eene979newwsw868n405w16we13w288nn767n14w9n316ws13esew550e440w886s924s927w287s58nn7snw5e5s12se82w11esw6ns11eennws17e4sse7enwen5ss2s8ee770s4e306n991sw83sn14w456s882e3w341snw16newe6sn996w14e648s6en35wnn119n2n347n3s8we13ws12s490w2swnswe905n15en22w779w7s13sss16s9we813ewn7s954ssse4w675e116wwsn410enw7wnw968s583n7w667sw369s5n734nesneee731s459wwwe46w10w17nsss454s442n2w492wnn302w4e141n12s10nwn9neenee3sw523s505e16www536s8w2nn587n523e108n10nsn5n944w11w9s11w12nnss6s11ww6wesnw6nw2e8ns17w2n488ewns7e275n918s66wwsw451n609ww236e9we14e5s7en370s267s9n295nwsnssses97w6n10snwe16ww14sn533e452e4n960w969w883nn17n617n12swnswwssesn713n3n13n7s555w5snss636wwn363ewnsn12ne14n11see436wnww308w9ne253e355nsew13snw568sse952s380e34w4e407es8e2e662n650ee17we12e91ee786sweenw7n17wn14essee386sewe222nn16nw2e3wnses8nne344eess17e6ws411n596s500s311e17es8ne492sn424s9n9w456n5n12sw781ww11wsws911ee468e5ws11nnw4n921n12s12ww74sns2ewne696we367wnw10sw14sn16se16e868e7n353s257e16e'\n",
        "\n",
        "x = input(\"What is the x coordinate?  \")\n",
        "y = input(\"What is the y coordinate?  \")\n",
        "\n",
        "if (BadTaxi.taxi((24183, -6570), tokens)) == (int(x), int(y)):\n",
        "  print(\"Yes! Proceed to part 4.\")\n",
        "else:\n",
        "  print(f'Unfortunately that is not correct - please check your solution and try again.')"
      ],
      "metadata": {
        "id": "gJb6weBNcwg9"
      },
      "execution_count": null,
      "outputs": []
    },
    {
      "cell_type": "markdown",
      "source": [
        "## Part 4\n",
        "\n",
        "The taxi service is great, everyone loves it! Sometimes people will get a\n",
        "cab just to ride around the city in it. At the end they go with the\n",
        "taxi driver to get ice creams and they reminisce about adventures they\n",
        "had when they were younger and braver.\n",
        "\n",
        "Passengers are asking us if we could preserve some of their treasured\n",
        "memories for them by letting them know where they were when they saw\n",
        "something which inspired them.\n",
        "\n",
        "We are therefore planning to provide passengers with a list of all of the\n",
        "intersections which they visited on their trip.\n",
        "\n",
        "For example, starting at `(8, -13)` and executing `3n2wne` will\n",
        "result in the list:\n",
        "\n",
        "```\n",
        "[ (8, -13),\n",
        "  (8, -12),\n",
        "  (8, -11),\n",
        "  (8, -10),\n",
        "  (7, -10),\n",
        "  (6, -10),\n",
        "  (6, -9),\n",
        "  (7, -9), ]\n",
        "```\n",
        "\n",
        "Note that the first location is the starting location.\n",
        "\n",
        "Write a new method, `plan_trip`, which will return a list of every\n",
        "location visited when following the directions given.\n"
      ],
      "metadata": {
        "id": "Jc4m6mtSeXs2"
      }
    },
    {
      "cell_type": "code",
      "source": [
        "def plan_trip(starting_position: Coordinates, tokens: str) -> List[Coordinates]:\n",
        "  pass"
      ],
      "metadata": {
        "id": "zMs5WHuhkMK0"
      },
      "execution_count": null,
      "outputs": []
    },
    {
      "cell_type": "markdown",
      "source": [
        "### Part 4 Solution\n",
        "\n",
        "For the trip with directions:\n",
        "\n",
        "```\n",
        "10we11w58wn867nen299s6s7eenwnw2ew708ese11ewe656wwee5s10w91n144e17se8s38e4wss17w911sewse923n16s2n17w38nsn575s616eewe14w15s16w296we11wnew719ewn705en14w4se11s16w11s12w5n16ee12s207n835n15w259s298ses26n15w925w16sew10n478s8n980wwsnensnsn739e10s995sn4ns543s8e8n456e991w9wwe15ss3ssn384ssnne10s56w16s787e212s4w8s8nen802s17ne705w5w454en7es410s325e134n7w9ewwesw16e16s10s737ewne240nw9nw686n7s409e2w276e811es15nwnsew6wwes11e3en10n7nn7sw662n4ssw68n523nswse15nn9s809e223w599e17n12ese429s10n433wwen8se13snne656w6w224ses370en728ew11e8wew454s378s611s12ee527nw343nn415w11e641s2sw468wnsnw6ewe222nss16e260ss649w933snwnw9sew520w163n950ew688weenn72s589new12e16n6en5een268en744e469ee12w5ne8e10sw16nw12s2wns7wee4sss17swne134nw2es801s4s15w11w688w131weww4w5ew654se363ns9e521ewen4s687e333en410sne94e42ne16wnw8n342nnw704ne738ew165wnw13n6s586nn4ws491s13n649w6sees16w4wssns7eew17ew325ws2e2e12n596n9ss692nsn601w286ww748nnsw15n556s4w237e5ew422e64e183ww6e12s250n13s17wn518w11w604w489ww16w435nne9sn12ns685nns269n14s15n391n479s394nw599see7wn225nsse528s213wes434ns15nwswe8nwensnn8es55ee16wwenewwe10nnnssnwe14se186w840we168nen12wn485n17w14e16w7sw14sw212e4s6ss5nwsns10n3wsns4ne263s360sene12s12se14wene12ne802ewnn14ssss11ne854n675ens6s5enn245e752ss155e217e7sses681ewe4n848s13en17es429sn3es8es2sn865ww924n16s611wwswe3sn394se176nn17s11w9ee928n399snn914w14e3seew16w495we949s525w8nwsnsenee13w286wnss167we13e245w17wnss14e990esnw14eenes826s398s200e30sw765snnen17n288ee4ne64wn12en784ww560n11ee992w167nne2e13neenw10wenn520snsee612sse3w12nsw690s316ne17s13e17wn10e14e5es833nnw191n818nn22eeee3n511n375se6ns443weens4nww989n16s42s17newe12w15n7wn12wnew16s655w6ww807w897ew11s369nn9swwn654w87e652se277e522w2snn330w11s648ns755ew108n149enn4ess858nnn10ns15e8nene17swnss4n16ssnw96swn232w6n6w422e10w3ee650sw265snwe11s119nnns936n165n396e845sns772e611enn861snw15e10snw5w16s7swn292s957esn17sn17en766nsse9w17swe6e4w9we996w2wew3s6wwsne558w725n17w7n15w453n208we515ne708neene2s16we398w5ssw5wnn7ses434ww359s710nnws371ennn299n8w2w10e814w719s8s17ss9wee16n804e80e488w288e6swenn11sn428ee4n15s8we484e6nee3ne14e961s41s888en6w331sws247s733w5e12w301swwn17sww16snsne7en5swes3s2e449n10n\n",
        "```\n",
        "\n",
        "Starting at location `(9169, -1118)`, what was the `10101`th location visited?"
      ],
      "metadata": {
        "id": "bjihSHa7koP3"
      }
    },
    {
      "cell_type": "code",
      "source": [
        "tokens = '10we11w58wn867nen299s6s7eenwnw2ew708ese11ewe656wwee5s10w91n144e17se8s38e4wss17w911sewse923n16s2n17w38nsn575s616eewe14w15s16w296we11wnew719ewn705en14w4se11s16w11s12w5n16ee12s207n835n15w259s298ses26n15w925w16sew10n478s8n980wwsnensnsn739e10s995sn4ns543s8e8n456e991w9wwe15ss3ssn384ssnne10s56w16s787e212s4w8s8nen802s17ne705w5w454en7es410s325e134n7w9ewwesw16e16s10s737ewne240nw9nw686n7s409e2w276e811es15nwnsew6wwes11e3en10n7nn7sw662n4ssw68n523nswse15nn9s809e223w599e17n12ese429s10n433wwen8se13snne656w6w224ses370en728ew11e8wew454s378s611s12ee527nw343nn415w11e641s2sw468wnsnw6ewe222nss16e260ss649w933snwnw9sew520w163n950ew688weenn72s589new12e16n6en5een268en744e469ee12w5ne8e10sw16nw12s2wns7wee4sss17swne134nw2es801s4s15w11w688w131weww4w5ew654se363ns9e521ewen4s687e333en410sne94e42ne16wnw8n342nnw704ne738ew165wnw13n6s586nn4ws491s13n649w6sees16w4wssns7eew17ew325ws2e2e12n596n9ss692nsn601w286ww748nnsw15n556s4w237e5ew422e64e183ww6e12s250n13s17wn518w11w604w489ww16w435nne9sn12ns685nns269n14s15n391n479s394nw599see7wn225nsse528s213wes434ns15nwswe8nwensnn8es55ee16wwenewwe10nnnssnwe14se186w840we168nen12wn485n17w14e16w7sw14sw212e4s6ss5nwsns10n3wsns4ne263s360sene12s12se14wene12ne802ewnn14ssss11ne854n675ens6s5enn245e752ss155e217e7sses681ewe4n848s13en17es429sn3es8es2sn865ww924n16s611wwswe3sn394se176nn17s11w9ee928n399snn914w14e3seew16w495we949s525w8nwsnsenee13w286wnss167we13e245w17wnss14e990esnw14eenes826s398s200e30sw765snnen17n288ee4ne64wn12en784ww560n11ee992w167nne2e13neenw10wenn520snsee612sse3w12nsw690s316ne17s13e17wn10e14e5es833nnw191n818nn22eeee3n511n375se6ns443weens4nww989n16s42s17newe12w15n7wn12wnew16s655w6ww807w897ew11s369nn9swwn654w87e652se277e522w2snn330w11s648ns755ew108n149enn4ess858nnn10ns15e8nene17swnss4n16ssnw96swn232w6n6w422e10w3ee650sw265snwe11s119nnns936n165n396e845sns772e611enn861snw15e10snw5w16s7swn292s957esn17sn17en766nsse9w17swe6e4w9we996w2wew3s6wwsne558w725n17w7n15w453n208we515ne708neene2s16we398w5ssw5wnn7ses434ww359s710nnws371ennn299n8w2w10e814w719s8s17ss9wee16n804e80e488w288e6swenn11sn428ee4n15s8we484e6nee3ne14e961s41s888en6w331sws247s733w5e12w301swwn17sww16snsne7en5swes3s2e449n10n'\n",
        "\n",
        "x = input(\"What is the x coordinate?  \")\n",
        "y = input(\"What is the y coordinate?  \")\n",
        "\n",
        "if (BadTaxi.plan_trip((9169, -1118), tokens)[10101]) == (int(x), int(y)):\n",
        "  print(\"Yes! You got it!\")\n",
        "else:\n",
        "  print(f'Unfortunately that is not correct - please check your solution and try again.')"
      ],
      "metadata": {
        "id": "FgXlJ3Q3k9Tf"
      },
      "execution_count": null,
      "outputs": []
    }
  ]
}